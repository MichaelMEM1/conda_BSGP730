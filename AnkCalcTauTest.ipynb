{
 "cells": [
  {
   "cell_type": "code",
   "execution_count": 3,
   "id": "46f9dd38-ea6c-4b9e-8b5b-9727557fabf2",
   "metadata": {},
   "outputs": [
    {
     "name": "stdout",
     "output_type": "stream",
     "text": [
      "Collecting seaborn\n",
      "  Downloading seaborn-0.13.2-py3-none-any.whl.metadata (5.4 kB)\n",
      "Requirement already satisfied: numpy!=1.24.0,>=1.20 in /srv/conda/envs/notebook/lib/python3.9/site-packages (from seaborn) (2.0.2)\n",
      "Requirement already satisfied: pandas>=1.2 in /srv/conda/envs/notebook/lib/python3.9/site-packages (from seaborn) (2.2.3)\n",
      "Requirement already satisfied: matplotlib!=3.6.1,>=3.4 in /srv/conda/envs/notebook/lib/python3.9/site-packages (from seaborn) (3.9.1)\n",
      "Requirement already satisfied: contourpy>=1.0.1 in /srv/conda/envs/notebook/lib/python3.9/site-packages (from matplotlib!=3.6.1,>=3.4->seaborn) (1.3.0)\n",
      "Requirement already satisfied: cycler>=0.10 in /srv/conda/envs/notebook/lib/python3.9/site-packages (from matplotlib!=3.6.1,>=3.4->seaborn) (0.12.1)\n",
      "Requirement already satisfied: fonttools>=4.22.0 in /srv/conda/envs/notebook/lib/python3.9/site-packages (from matplotlib!=3.6.1,>=3.4->seaborn) (4.54.1)\n",
      "Requirement already satisfied: kiwisolver>=1.3.1 in /srv/conda/envs/notebook/lib/python3.9/site-packages (from matplotlib!=3.6.1,>=3.4->seaborn) (1.4.7)\n",
      "Requirement already satisfied: packaging>=20.0 in /srv/conda/envs/notebook/lib/python3.9/site-packages (from matplotlib!=3.6.1,>=3.4->seaborn) (24.1)\n",
      "Requirement already satisfied: pillow>=8 in /srv/conda/envs/notebook/lib/python3.9/site-packages (from matplotlib!=3.6.1,>=3.4->seaborn) (9.2.0)\n",
      "Requirement already satisfied: pyparsing>=2.3.1 in /srv/conda/envs/notebook/lib/python3.9/site-packages (from matplotlib!=3.6.1,>=3.4->seaborn) (3.2.0)\n",
      "Requirement already satisfied: python-dateutil>=2.7 in /srv/conda/envs/notebook/lib/python3.9/site-packages (from matplotlib!=3.6.1,>=3.4->seaborn) (2.9.0)\n",
      "Requirement already satisfied: importlib-resources>=3.2.0 in /srv/conda/envs/notebook/lib/python3.9/site-packages (from matplotlib!=3.6.1,>=3.4->seaborn) (6.4.4)\n",
      "Requirement already satisfied: pytz>=2020.1 in /srv/conda/envs/notebook/lib/python3.9/site-packages (from pandas>=1.2->seaborn) (2024.1)\n",
      "Requirement already satisfied: tzdata>=2022.7 in /srv/conda/envs/notebook/lib/python3.9/site-packages (from pandas>=1.2->seaborn) (2024.2)\n",
      "Requirement already satisfied: zipp>=3.1.0 in /srv/conda/envs/notebook/lib/python3.9/site-packages (from importlib-resources>=3.2.0->matplotlib!=3.6.1,>=3.4->seaborn) (3.20.1)\n",
      "Requirement already satisfied: six>=1.5 in /srv/conda/envs/notebook/lib/python3.9/site-packages (from python-dateutil>=2.7->matplotlib!=3.6.1,>=3.4->seaborn) (1.16.0)\n",
      "Downloading seaborn-0.13.2-py3-none-any.whl (294 kB)\n",
      "Installing collected packages: seaborn\n",
      "Successfully installed seaborn-0.13.2\n",
      "Note: you may need to restart the kernel to use updated packages.\n"
     ]
    }
   ],
   "source": [
    "pip install seaborn"
   ]
  },
  {
   "cell_type": "code",
   "execution_count": 27,
   "id": "4c6a2239-c711-497c-8a80-2c27572225a4",
   "metadata": {},
   "outputs": [
    {
     "name": "stdout",
     "output_type": "stream",
     "text": [
      "Requirement already satisfied: scipy in /srv/conda/envs/notebook/lib/python3.9/site-packages (1.13.1)\n",
      "Requirement already satisfied: numpy<2.3,>=1.22.4 in /srv/conda/envs/notebook/lib/python3.9/site-packages (from scipy) (2.0.2)\n",
      "Note: you may need to restart the kernel to use updated packages.\n"
     ]
    }
   ],
   "source": [
    "pip install scipy"
   ]
  },
  {
   "cell_type": "code",
   "execution_count": 28,
   "id": "fac6e029-32eb-4d03-99c8-2368459d7e41",
   "metadata": {},
   "outputs": [],
   "source": [
    "import seaborn as sns\n",
    "import pandas as pd\n",
    "import matplotlib.pyplot as plt\n",
    "import numpy as np\n",
    "import scipy as sc"
   ]
  },
  {
   "cell_type": "code",
   "execution_count": 6,
   "id": "b945bdec-4c43-437e-8b60-f4aba21cd3ae",
   "metadata": {},
   "outputs": [],
   "source": [
    "Calcium_Data = pd.read_csv('AnkCtrlD1.csv', sep=',',na_values=\".\")"
   ]
  },
  {
   "cell_type": "code",
   "execution_count": 7,
   "id": "7ae48575-8cf1-4a3b-8964-0bf5609d3c58",
   "metadata": {},
   "outputs": [
    {
     "data": {
      "text/html": [
       "<div>\n",
       "<style scoped>\n",
       "    .dataframe tbody tr th:only-of-type {\n",
       "        vertical-align: middle;\n",
       "    }\n",
       "\n",
       "    .dataframe tbody tr th {\n",
       "        vertical-align: top;\n",
       "    }\n",
       "\n",
       "    .dataframe thead th {\n",
       "        text-align: right;\n",
       "    }\n",
       "</style>\n",
       "<table border=\"1\" class=\"dataframe\">\n",
       "  <thead>\n",
       "    <tr style=\"text-align: right;\">\n",
       "      <th></th>\n",
       "      <th>ID</th>\n",
       "      <th>Type</th>\n",
       "      <th>Tau</th>\n",
       "    </tr>\n",
       "  </thead>\n",
       "  <tbody>\n",
       "    <tr>\n",
       "      <th>0</th>\n",
       "      <td>Fura 1</td>\n",
       "      <td>Ctrl</td>\n",
       "      <td>0.513</td>\n",
       "    </tr>\n",
       "    <tr>\n",
       "      <th>1</th>\n",
       "      <td>Fura 2</td>\n",
       "      <td>Ctrl</td>\n",
       "      <td>0.550</td>\n",
       "    </tr>\n",
       "    <tr>\n",
       "      <th>2</th>\n",
       "      <td>Fura 3</td>\n",
       "      <td>Ctrl</td>\n",
       "      <td>0.533</td>\n",
       "    </tr>\n",
       "    <tr>\n",
       "      <th>3</th>\n",
       "      <td>Fura 4</td>\n",
       "      <td>Ctrl</td>\n",
       "      <td>0.483</td>\n",
       "    </tr>\n",
       "    <tr>\n",
       "      <th>4</th>\n",
       "      <td>Fura 5</td>\n",
       "      <td>Ctrl</td>\n",
       "      <td>0.523</td>\n",
       "    </tr>\n",
       "    <tr>\n",
       "      <th>5</th>\n",
       "      <td>Fura 6</td>\n",
       "      <td>Ctrl</td>\n",
       "      <td>0.516</td>\n",
       "    </tr>\n",
       "    <tr>\n",
       "      <th>6</th>\n",
       "      <td>Fura 7</td>\n",
       "      <td>Ctrl</td>\n",
       "      <td>0.310</td>\n",
       "    </tr>\n",
       "    <tr>\n",
       "      <th>7</th>\n",
       "      <td>Fura 10</td>\n",
       "      <td>Ank</td>\n",
       "      <td>0.551</td>\n",
       "    </tr>\n",
       "    <tr>\n",
       "      <th>8</th>\n",
       "      <td>Fura 11</td>\n",
       "      <td>Ank</td>\n",
       "      <td>0.317</td>\n",
       "    </tr>\n",
       "    <tr>\n",
       "      <th>9</th>\n",
       "      <td>Fura 12</td>\n",
       "      <td>Ank</td>\n",
       "      <td>0.526</td>\n",
       "    </tr>\n",
       "    <tr>\n",
       "      <th>10</th>\n",
       "      <td>Fura 13</td>\n",
       "      <td>Ank</td>\n",
       "      <td>0.355</td>\n",
       "    </tr>\n",
       "    <tr>\n",
       "      <th>11</th>\n",
       "      <td>Fura 14</td>\n",
       "      <td>Ank</td>\n",
       "      <td>0.494</td>\n",
       "    </tr>\n",
       "    <tr>\n",
       "      <th>12</th>\n",
       "      <td>Fura 15</td>\n",
       "      <td>Ank</td>\n",
       "      <td>0.521</td>\n",
       "    </tr>\n",
       "    <tr>\n",
       "      <th>13</th>\n",
       "      <td>Fura 17</td>\n",
       "      <td>Ank</td>\n",
       "      <td>0.541</td>\n",
       "    </tr>\n",
       "  </tbody>\n",
       "</table>\n",
       "</div>"
      ],
      "text/plain": [
       "          ID  Type    Tau\n",
       "0    Fura 1   Ctrl  0.513\n",
       "1     Fura 2  Ctrl  0.550\n",
       "2     Fura 3  Ctrl  0.533\n",
       "3     Fura 4  Ctrl  0.483\n",
       "4     Fura 5  Ctrl  0.523\n",
       "5     Fura 6  Ctrl  0.516\n",
       "6     Fura 7  Ctrl  0.310\n",
       "7   Fura 10    Ank  0.551\n",
       "8    Fura 11   Ank  0.317\n",
       "9    Fura 12   Ank  0.526\n",
       "10   Fura 13   Ank  0.355\n",
       "11   Fura 14   Ank  0.494\n",
       "12   Fura 15   Ank  0.521\n",
       "13   Fura 17   Ank  0.541"
      ]
     },
     "execution_count": 7,
     "metadata": {},
     "output_type": "execute_result"
    }
   ],
   "source": [
    "Calcium_Data"
   ]
  },
  {
   "cell_type": "code",
   "execution_count": 8,
   "id": "33f931cf-fb1a-4710-a2d2-d0577820f893",
   "metadata": {},
   "outputs": [
    {
     "data": {
      "text/html": [
       "<div>\n",
       "<style scoped>\n",
       "    .dataframe tbody tr th:only-of-type {\n",
       "        vertical-align: middle;\n",
       "    }\n",
       "\n",
       "    .dataframe tbody tr th {\n",
       "        vertical-align: top;\n",
       "    }\n",
       "\n",
       "    .dataframe thead th {\n",
       "        text-align: right;\n",
       "    }\n",
       "</style>\n",
       "<table border=\"1\" class=\"dataframe\">\n",
       "  <thead>\n",
       "    <tr style=\"text-align: right;\">\n",
       "      <th></th>\n",
       "      <th>Tau</th>\n",
       "    </tr>\n",
       "  </thead>\n",
       "  <tbody>\n",
       "    <tr>\n",
       "      <th>count</th>\n",
       "      <td>14.000000</td>\n",
       "    </tr>\n",
       "    <tr>\n",
       "      <th>mean</th>\n",
       "      <td>0.480929</td>\n",
       "    </tr>\n",
       "    <tr>\n",
       "      <th>std</th>\n",
       "      <td>0.085839</td>\n",
       "    </tr>\n",
       "    <tr>\n",
       "      <th>min</th>\n",
       "      <td>0.310000</td>\n",
       "    </tr>\n",
       "    <tr>\n",
       "      <th>25%</th>\n",
       "      <td>0.485750</td>\n",
       "    </tr>\n",
       "    <tr>\n",
       "      <th>50%</th>\n",
       "      <td>0.518500</td>\n",
       "    </tr>\n",
       "    <tr>\n",
       "      <th>75%</th>\n",
       "      <td>0.531250</td>\n",
       "    </tr>\n",
       "    <tr>\n",
       "      <th>max</th>\n",
       "      <td>0.551000</td>\n",
       "    </tr>\n",
       "  </tbody>\n",
       "</table>\n",
       "</div>"
      ],
      "text/plain": [
       "             Tau\n",
       "count  14.000000\n",
       "mean    0.480929\n",
       "std     0.085839\n",
       "min     0.310000\n",
       "25%     0.485750\n",
       "50%     0.518500\n",
       "75%     0.531250\n",
       "max     0.551000"
      ]
     },
     "execution_count": 8,
     "metadata": {},
     "output_type": "execute_result"
    }
   ],
   "source": [
    "pd.DataFrame.describe(Calcium_Data)"
   ]
  },
  {
   "cell_type": "code",
   "execution_count": 9,
   "id": "8f52e10f-3e91-4d11-bb0d-bf93f57992b9",
   "metadata": {},
   "outputs": [],
   "source": [
    "groupby_cell = Calcium_Data.groupby('Type')"
   ]
  },
  {
   "cell_type": "code",
   "execution_count": 10,
   "id": "5ca66e9e-3422-4cd3-922c-a0bf28a6ee31",
   "metadata": {},
   "outputs": [
    {
     "name": "stdout",
     "output_type": "stream",
     "text": [
      "('Ank', np.float64(0.47214285714285714))\n",
      "('Ctrl', np.float64(0.48971428571428577))\n"
     ]
    }
   ],
   "source": [
    "for type, value in groupby_cell['Tau']:\n",
    "    print((type, value.mean()))"
   ]
  },
  {
   "cell_type": "code",
   "execution_count": 11,
   "id": "71148b91-4081-48d3-b1f7-389091f75108",
   "metadata": {},
   "outputs": [
    {
     "data": {
      "text/html": [
       "<div>\n",
       "<style scoped>\n",
       "    .dataframe tbody tr th:only-of-type {\n",
       "        vertical-align: middle;\n",
       "    }\n",
       "\n",
       "    .dataframe tbody tr th {\n",
       "        vertical-align: top;\n",
       "    }\n",
       "\n",
       "    .dataframe thead th {\n",
       "        text-align: right;\n",
       "    }\n",
       "</style>\n",
       "<table border=\"1\" class=\"dataframe\">\n",
       "  <thead>\n",
       "    <tr style=\"text-align: right;\">\n",
       "      <th></th>\n",
       "      <th>Tau</th>\n",
       "    </tr>\n",
       "    <tr>\n",
       "      <th>Type</th>\n",
       "      <th></th>\n",
       "    </tr>\n",
       "  </thead>\n",
       "  <tbody>\n",
       "    <tr>\n",
       "      <th>Ank</th>\n",
       "      <td>0.472143</td>\n",
       "    </tr>\n",
       "    <tr>\n",
       "      <th>Ctrl</th>\n",
       "      <td>0.489714</td>\n",
       "    </tr>\n",
       "  </tbody>\n",
       "</table>\n",
       "</div>"
      ],
      "text/plain": [
       "           Tau\n",
       "Type          \n",
       "Ank   0.472143\n",
       "Ctrl  0.489714"
      ]
     },
     "execution_count": 11,
     "metadata": {},
     "output_type": "execute_result"
    }
   ],
   "source": [
    "groupby_cell.mean(numeric_only=True)"
   ]
  },
  {
   "cell_type": "code",
   "execution_count": 12,
   "id": "15b7f8f8-0e81-4c4e-93ab-0b88100d1f8a",
   "metadata": {},
   "outputs": [],
   "source": [
    "grouped_calc = Calcium_Data.groupby('Type')['Tau'].mean().reset_index()"
   ]
  },
  {
   "cell_type": "code",
   "execution_count": 13,
   "id": "839b64a7-cafb-4aee-b923-1c684100cd90",
   "metadata": {},
   "outputs": [
    {
     "data": {
      "image/png": "[encoded data removed]",
      "text/plain": [
       "<Figure size 800x600 with 1 Axes>"
      ]
     },
     "metadata": {},
     "output_type": "display_data"
    }
   ],
   "source": [
    "plt.figure(figsize=(8, 6))\n",
    "plt.bar(grouped_calc['Type'], grouped_calc['Tau'], color='skyblue')\n",
    "plt.xlabel('Cell Type')\n",
    "plt.ylabel('Average Value')\n",
    "plt.title('Average Value by Cell Type')\n",
    "plt.tight_layout()\n",
    "plt.show()"
   ]
  },
  {
   "cell_type": "code",
   "execution_count": 14,
   "id": "63449f15-e411-4bda-84c2-7372b3f7f86f",
   "metadata": {},
   "outputs": [
    {
     "name": "stderr",
     "output_type": "stream",
     "text": [
      "/tmp/ipykernel_632/3679013321.py:4: FutureWarning: The default of observed=False is deprecated and will be changed to True in a future version of pandas. Pass observed=False to retain current behavior or observed=True to adopt the future default and silence this warning.\n",
      "  mean_values = Calcium_Data.groupby('Type')['Tau'].mean()\n",
      "/tmp/ipykernel_632/3679013321.py:5: FutureWarning: The default of observed=False is deprecated and will be changed to True in a future version of pandas. Pass observed=False to retain current behavior or observed=True to adopt the future default and silence this warning.\n",
      "  std_values = Calcium_Data.groupby('Type')['Tau'].std()\n",
      "/tmp/ipykernel_632/3679013321.py:6: FutureWarning: The default of observed=False is deprecated and will be changed to True in a future version of pandas. Pass observed=False to retain current behavior or observed=True to adopt the future default and silence this warning.\n",
      "  median_values = Calcium_Data.groupby('Type')['Tau'].median()\n"
     ]
    },
    {
     "data": {
      "image/png": "[encoded data removed]",
      "text/plain": [
       "<Figure size 600x600 with 1 Axes>"
      ]
     },
     "metadata": {},
     "output_type": "display_data"
    }
   ],
   "source": [
    "\n",
    "Calcium_Data['Type'] = pd.Categorical(Calcium_Data['Type'], categories=['Ank', 'Ctrl'])\n",
    "\n",
    "# Calculate the mean, standard deviation, and median for each cell type\n",
    "mean_values = Calcium_Data.groupby('Type')['Tau'].mean()\n",
    "std_values = Calcium_Data.groupby('Type')['Tau'].std()\n",
    "median_values = Calcium_Data.groupby('Type')['Tau'].median()\n",
    "\n",
    "# Create the plot\n",
    "plt.figure(figsize=(6, 6))\n",
    "\n",
    "# Plot individual data points (scatter plot)\n",
    "plt.scatter(Calcium_Data['Type'], Calcium_Data['Tau'], marker= 's', color='black', alpha= 1, edgecolors='w', s=100)\n",
    "plt.xticks(rotation=45)\n",
    "\n",
    "for i, cell_type in enumerate(Calcium_Data['Type'].unique()):\n",
    "    # Get the mean, std, and median for each cell type\n",
    "    cell_mean = mean_values[cell_type]\n",
    "    cell_std = std_values[cell_type]\n",
    "    cell_median = median_values[cell_type]\n",
    "    \n",
    "    # The x position should be the index of the current cell type (numeric position for categorical data)\n",
    "    x_position = i  # Here 'i' is the index of the current category (0 for 'Ank', 1 for 'Ctrl')\n",
    "    \n",
    "    # Plot the error bar (standard deviation) for this cell type\n",
    "    plt.errorbar(x_position, cell_mean, yerr=cell_std, fmt='s', color='black', capsize=5, linestyle='None')\n",
    "    \n",
    "    # Add a horizontal line for the median value of this cell type\n",
    "    plt.hlines(cell_median, x_position - 0.2, x_position + 0.2, colors='black', linewidth=2, \n",
    "               label=f'{cell_type} median' if i == 0 else \"\")  # Add label only for the first category ('Ank')\n",
    "\n",
    "\n",
    "# Add labels and title\n",
    "plt.xlabel('Cell Type')\n",
    "plt.ylabel('Tau')\n",
    "plt.title('Individual Taus by Cell Type')\n",
    "plt.ylim(0,1.0)\n",
    "plt.xlim(-0.5, len(Calcium_Data['Type'].unique()) - 0.5)\n",
    "plt.subplots_adjust(left=0.1, right=0.9, top=0.9, bottom=0.1)\n",
    "\n",
    "# Show the plot\n",
    "\n",
    "plt.show()"
   ]
  },
  {
   "cell_type": "code",
   "execution_count": 25,
   "id": "6e59519a-60d6-4e91-bb72-66d6174908b4",
   "metadata": {},
   "outputs": [
    {
     "name": "stderr",
     "output_type": "stream",
     "text": [
      "/tmp/ipykernel_632/3622680387.py:9: UserWarning: Ignoring `palette` because no `hue` variable has been assigned.\n",
      "  sns.scatterplot(data=Calcium_Data, x='Type', y='Tau', color='black', marker= 's', s=100, edgecolor='w', alpha=1, palette=\"deep\")\n",
      "/tmp/ipykernel_632/3622680387.py:13: FutureWarning: The default of observed=False is deprecated and will be changed to True in a future version of pandas. Pass observed=False to retain current behavior or observed=True to adopt the future default and silence this warning.\n",
      "  mean_values = Calcium_Data.groupby('Type')['Tau'].mean()\n",
      "/tmp/ipykernel_632/3622680387.py:14: FutureWarning: The default of observed=False is deprecated and will be changed to True in a future version of pandas. Pass observed=False to retain current behavior or observed=True to adopt the future default and silence this warning.\n",
      "  std_values = Calcium_Data.groupby('Type')['Tau'].std()\n",
      "/tmp/ipykernel_632/3622680387.py:21: FutureWarning: The default of observed=False is deprecated and will be changed to True in a future version of pandas. Pass observed=False to retain current behavior or observed=True to adopt the future default and silence this warning.\n",
      "  median_values = Calcium_Data.groupby('Type')['Tau'].median()\n"
     ]
    },
    {
     "data": {
      "image/png": "[encoded data removed]",
      "text/plain": [
       "<Figure size 600x600 with 1 Axes>"
      ]
     },
     "metadata": {},
     "output_type": "display_data"
    }
   ],
   "source": [
    "\n",
    "# Create the plot\n",
    "plt.figure(figsize=(6, 6))\n",
    "\n",
    "\n",
    "sns.set_style(\"ticks\")\n",
    "sns.despine()\n",
    "\n",
    "# Create a scatter plot with Seaborn (individual points)\n",
    "sns.scatterplot(data=Calcium_Data, x='Type', y='Tau', color='black', marker= 's', s=100, edgecolor='w', alpha=1, palette=\"deep\")\n",
    "sns.despine()\n",
    "# Add error bars representing standard deviation (using groupby to calculate)\n",
    "# We need to calculate the means and standard deviations first\n",
    "mean_values = Calcium_Data.groupby('Type')['Tau'].mean()\n",
    "std_values = Calcium_Data.groupby('Type')['Tau'].std()\n",
    "\n",
    "# Add error bars (standard deviation)\n",
    "for i, cell_type in enumerate(Calcium_Data['Type'].unique()):\n",
    "    plt.errorbar(x=i, y=mean_values[cell_type], yerr=std_values[cell_type], fmt='o', color='black', capsize=16, linestyle='None')\n",
    "\n",
    "# Add horizontal lines for the median of each cell type\n",
    "median_values = Calcium_Data.groupby('Type')['Tau'].median()\n",
    "for i, cell_type in enumerate(Calcium_Data['Type'].unique()):\n",
    "    plt.hlines(median_values[cell_type], i - 0.2, i + 0.2, colors='black', linewidth=2, label=f'{cell_type} median' if i == 0 else \"\")\n",
    "\n",
    "# Customize the plot\n",
    "plt.xlabel('Cell Type')\n",
    "plt.ylabel('Tau')\n",
    "plt.title('Individual Tau Values by Cell Type')\n",
    "plt.xticks(rotation=45)\n",
    "plt.ylim(0, 1.5)\n",
    "plt.xlim(-0.5, len(Calcium_Data['Type'].unique()) - 0.5)\n",
    "\n",
    "# Adjust the layout and show the plot\n",
    "plt.subplots_adjust(left=0.1, right=0.9, top=0.9, bottom=0.1)\n",
    "plt.legend(title='Median', loc='upper left')\n",
    "plt.show()"
   ]
  },
  {
   "cell_type": "code",
   "execution_count": 29,
   "id": "0ae57546-5e1a-4d42-b2ab-85d29d1e904a",
   "metadata": {},
   "outputs": [
    {
     "data": {
      "text/plain": [
       "TtestResult(statistic=np.float64(-0.37003067573592274), pvalue=np.float64(0.7178078781847521), df=np.float64(12.0))"
      ]
     },
     "execution_count": 29,
     "metadata": {},
     "output_type": "execute_result"
    }
   ],
   "source": [
    "ank_tau = Calcium_Data[Calcium_Data['Type'] == 'Ank']['Tau']\n",
    "ctrl_tau = Calcium_Data[Calcium_Data['Type'] == 'Ctrl']['Tau']\n",
    "sc.stats.ttest_ind(ank_tau, ctrl_tau)  "
   ]
  },
  {
   "cell_type": "code",
   "execution_count": null,
   "id": "7aa61af3-c228-451d-a082-8bb1d28fd87e",
   "metadata": {},
   "outputs": [],
   "source": []
  }
 ],
 "metadata": {
  "kernelspec": {
   "display_name": "Python 3 (ipykernel)",
   "language": "python",
   "name": "python3"
  },
  "language_info": {
   "codemirror_mode": {
    "name": "ipython",
    "version": 3
   },
   "file_extension": ".py",
   "mimetype": "text/x-python",
   "name": "python",
   "nbconvert_exporter": "python",
   "pygments_lexer": "ipython3",
   "version": "3.9.18"
  }
 },
 "nbformat": 4,
 "nbformat_minor": 5
}
